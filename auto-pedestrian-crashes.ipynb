{
 "cells": [
  {
   "cell_type": "markdown",
   "metadata": {},
   "source": [
    "Ucitavanje biblioteka"
   ]
  },
  {
   "cell_type": "code",
   "execution_count": 67,
   "metadata": {},
   "outputs": [
    {
     "data": {
      "text/plain": [
       "True"
      ]
     },
     "execution_count": 67,
     "metadata": {},
     "output_type": "execute_result"
    }
   ],
   "source": [
    "import numpy as np # linear algebra\n",
    "import pandas as pd # data processing\n",
    "import matplotlib.pyplot as plt\n",
    "%matplotlib inline\n",
    "import seaborn as sns\n",
    "import os\n",
    "from dotenv import load_dotenv\n",
    "load_dotenv()"
   ]
  },
  {
   "cell_type": "markdown",
   "metadata": {},
   "source": [
    "Učitavanje i prikazivanje podataka iz csv datoteke."
   ]
  },
  {
   "cell_type": "code",
   "execution_count": 68,
   "metadata": {},
   "outputs": [
    {
     "data": {
      "text/html": [
       "<div>\n",
       "<style scoped>\n",
       "    .dataframe tbody tr th:only-of-type {\n",
       "        vertical-align: middle;\n",
       "    }\n",
       "\n",
       "    .dataframe tbody tr th {\n",
       "        vertical-align: top;\n",
       "    }\n",
       "\n",
       "    .dataframe thead th {\n",
       "        text-align: right;\n",
       "    }\n",
       "</style>\n",
       "<table border=\"1\" class=\"dataframe\">\n",
       "  <thead>\n",
       "    <tr style=\"text-align: right;\">\n",
       "      <th></th>\n",
       "      <th>Crash Year</th>\n",
       "      <th>Crash Day</th>\n",
       "    </tr>\n",
       "  </thead>\n",
       "  <tbody>\n",
       "    <tr>\n",
       "      <th>count</th>\n",
       "      <td>6809.000000</td>\n",
       "      <td>6809.000000</td>\n",
       "    </tr>\n",
       "    <tr>\n",
       "      <th>mean</th>\n",
       "      <td>2013.992216</td>\n",
       "      <td>15.384197</td>\n",
       "    </tr>\n",
       "    <tr>\n",
       "      <th>std</th>\n",
       "      <td>2.597471</td>\n",
       "      <td>8.701025</td>\n",
       "    </tr>\n",
       "    <tr>\n",
       "      <th>min</th>\n",
       "      <td>2010.000000</td>\n",
       "      <td>1.000000</td>\n",
       "    </tr>\n",
       "    <tr>\n",
       "      <th>25%</th>\n",
       "      <td>2012.000000</td>\n",
       "      <td>8.000000</td>\n",
       "    </tr>\n",
       "    <tr>\n",
       "      <th>50%</th>\n",
       "      <td>2014.000000</td>\n",
       "      <td>15.000000</td>\n",
       "    </tr>\n",
       "    <tr>\n",
       "      <th>75%</th>\n",
       "      <td>2016.000000</td>\n",
       "      <td>23.000000</td>\n",
       "    </tr>\n",
       "    <tr>\n",
       "      <th>max</th>\n",
       "      <td>2018.000000</td>\n",
       "      <td>31.000000</td>\n",
       "    </tr>\n",
       "  </tbody>\n",
       "</table>\n",
       "</div>"
      ],
      "text/plain": [
       "        Crash Year    Crash Day\n",
       "count  6809.000000  6809.000000\n",
       "mean   2013.992216    15.384197\n",
       "std       2.597471     8.701025\n",
       "min    2010.000000     1.000000\n",
       "25%    2012.000000     8.000000\n",
       "50%    2014.000000    15.000000\n",
       "75%    2016.000000    23.000000\n",
       "max    2018.000000    31.000000"
      ]
     },
     "execution_count": 68,
     "metadata": {},
     "output_type": "execute_result"
    }
   ],
   "source": [
    "#file = os.environ.get(\"FILE\")\n",
    "file = os.environ.get(\"RAW_DATA_FILE\")\n",
    "podaci = pd.read_csv(f'{file}')\n",
    "#podaci[['Crash Year','Crash Month','Crash Day','Time of Day','Day of Week','City or Township','Crash: Intersection','Crash: Hit-and-Run','Lighting Conditions','Weather Conditions','Speed Limit at Crash Site','Imputed_Speed Limit at Crash Site','Worst Injury In Crash','Person Age','Imputed_Person Age','Person Gender','ADI Impute Column','Column 2']].describe()\n",
    "#podaci[podaci.columns]\n",
    "podaci[['Crash Year','Crash Month','Crash Day','Time of Day','Day of Week','City or Township','Crash: Intersection','Crash: Hit-and-Run','Lighting Conditions','Weather Conditions (2016+)','Speed Limit at Crash Site','Worst Injury in Crash','Party Type','Person Age','Person Gender']].describe()"
   ]
  },
  {
   "cell_type": "code",
   "execution_count": 69,
   "metadata": {},
   "outputs": [
    {
     "data": {
      "text/html": [
       "<div>\n",
       "<style scoped>\n",
       "    .dataframe tbody tr th:only-of-type {\n",
       "        vertical-align: middle;\n",
       "    }\n",
       "\n",
       "    .dataframe tbody tr th {\n",
       "        vertical-align: top;\n",
       "    }\n",
       "\n",
       "    .dataframe thead th {\n",
       "        text-align: right;\n",
       "    }\n",
       "</style>\n",
       "<table border=\"1\" class=\"dataframe\">\n",
       "  <thead>\n",
       "    <tr style=\"text-align: right;\">\n",
       "      <th></th>\n",
       "      <th>Crash Month</th>\n",
       "      <th>Time of Day</th>\n",
       "      <th>Day of Week</th>\n",
       "      <th>City or Township</th>\n",
       "      <th>Crash: Intersection</th>\n",
       "      <th>Crash: Hit-and-Run</th>\n",
       "      <th>Lighting Conditions</th>\n",
       "      <th>Weather Conditions (2016+)</th>\n",
       "      <th>Speed Limit at Crash Site</th>\n",
       "      <th>Worst Injury in Crash</th>\n",
       "      <th>Party Type</th>\n",
       "      <th>Person Age</th>\n",
       "      <th>Person Gender</th>\n",
       "    </tr>\n",
       "  </thead>\n",
       "  <tbody>\n",
       "    <tr>\n",
       "      <th>count</th>\n",
       "      <td>6809</td>\n",
       "      <td>6809</td>\n",
       "      <td>6809</td>\n",
       "      <td>6809</td>\n",
       "      <td>6809</td>\n",
       "      <td>6809</td>\n",
       "      <td>6809</td>\n",
       "      <td>6809</td>\n",
       "      <td>6809</td>\n",
       "      <td>6809</td>\n",
       "      <td>6809</td>\n",
       "      <td>6809</td>\n",
       "      <td>6809</td>\n",
       "    </tr>\n",
       "    <tr>\n",
       "      <th>unique</th>\n",
       "      <td>12</td>\n",
       "      <td>25</td>\n",
       "      <td>7</td>\n",
       "      <td>43</td>\n",
       "      <td>2</td>\n",
       "      <td>2</td>\n",
       "      <td>8</td>\n",
       "      <td>10</td>\n",
       "      <td>15</td>\n",
       "      <td>5</td>\n",
       "      <td>1</td>\n",
       "      <td>87</td>\n",
       "      <td>3</td>\n",
       "    </tr>\n",
       "    <tr>\n",
       "      <th>top</th>\n",
       "      <td>October</td>\n",
       "      <td>6:00 PM - 7:00 PM</td>\n",
       "      <td>Friday</td>\n",
       "      <td>Wayne County: Detroit</td>\n",
       "      <td>Not intersection crash</td>\n",
       "      <td>Not hit-and-run</td>\n",
       "      <td>Daylight</td>\n",
       "      <td>Uncoded &amp; errors</td>\n",
       "      <td>25</td>\n",
       "      <td>Possible injury (C)</td>\n",
       "      <td>Motor vehicle driver</td>\n",
       "      <td>DOB invalid</td>\n",
       "      <td>Male</td>\n",
       "    </tr>\n",
       "    <tr>\n",
       "      <th>freq</th>\n",
       "      <td>695</td>\n",
       "      <td>535</td>\n",
       "      <td>1078</td>\n",
       "      <td>4543</td>\n",
       "      <td>3852</td>\n",
       "      <td>4300</td>\n",
       "      <td>3630</td>\n",
       "      <td>4613</td>\n",
       "      <td>2233</td>\n",
       "      <td>2489</td>\n",
       "      <td>6809</td>\n",
       "      <td>2470</td>\n",
       "      <td>2905</td>\n",
       "    </tr>\n",
       "  </tbody>\n",
       "</table>\n",
       "</div>"
      ],
      "text/plain": [
       "       Crash Month        Time of Day Day of Week       City or Township  \\\n",
       "count         6809               6809        6809                   6809   \n",
       "unique          12                 25           7                     43   \n",
       "top        October  6:00 PM - 7:00 PM      Friday  Wayne County: Detroit   \n",
       "freq           695                535        1078                   4543   \n",
       "\n",
       "           Crash: Intersection Crash: Hit-and-Run Lighting Conditions  \\\n",
       "count                     6809               6809                6809   \n",
       "unique                       2                  2                   8   \n",
       "top     Not intersection crash    Not hit-and-run            Daylight   \n",
       "freq                      3852               4300                3630   \n",
       "\n",
       "       Weather Conditions (2016+) Speed Limit at Crash Site  \\\n",
       "count                        6809                      6809   \n",
       "unique                         10                        15   \n",
       "top              Uncoded & errors                        25   \n",
       "freq                         4613                      2233   \n",
       "\n",
       "       Worst Injury in Crash            Party Type   Person Age Person Gender  \n",
       "count                   6809                  6809         6809          6809  \n",
       "unique                     5                     1           87             3  \n",
       "top      Possible injury (C)  Motor vehicle driver  DOB invalid          Male  \n",
       "freq                    2489                  6809         2470          2905  "
      ]
     },
     "execution_count": 69,
     "metadata": {},
     "output_type": "execute_result"
    }
   ],
   "source": [
    "podaci.describe(include='object')"
   ]
  },
  {
   "cell_type": "markdown",
   "metadata": {},
   "source": [
    "informacija o podacima (tipovi, nedostajuće vrijednosti)"
   ]
  },
  {
   "cell_type": "code",
   "execution_count": 70,
   "metadata": {},
   "outputs": [
    {
     "name": "stdout",
     "output_type": "stream",
     "text": [
      "<class 'pandas.core.frame.DataFrame'>\n",
      "RangeIndex: 6809 entries, 0 to 6808\n",
      "Data columns (total 15 columns):\n",
      " #   Column                      Non-Null Count  Dtype \n",
      "---  ------                      --------------  ----- \n",
      " 0   Crash Year                  6809 non-null   int64 \n",
      " 1   Crash Month                 6809 non-null   object\n",
      " 2   Crash Day                   6809 non-null   int64 \n",
      " 3   Time of Day                 6809 non-null   object\n",
      " 4   Day of Week                 6809 non-null   object\n",
      " 5   City or Township            6809 non-null   object\n",
      " 6   Crash: Intersection         6809 non-null   object\n",
      " 7   Crash: Hit-and-Run          6809 non-null   object\n",
      " 8   Lighting Conditions         6809 non-null   object\n",
      " 9   Weather Conditions (2016+)  6809 non-null   object\n",
      " 10  Speed Limit at Crash Site   6809 non-null   object\n",
      " 11  Worst Injury in Crash       6809 non-null   object\n",
      " 12  Party Type                  6809 non-null   object\n",
      " 13  Person Age                  6809 non-null   object\n",
      " 14  Person Gender               6809 non-null   object\n",
      "dtypes: int64(2), object(13)\n",
      "memory usage: 798.1+ KB\n"
     ]
    }
   ],
   "source": [
    "podaci.info()"
   ]
  },
  {
   "attachments": {},
   "cell_type": "markdown",
   "metadata": {},
   "source": [
    "Provjera neispravnih vrijednosti u setu podataka i ispravljanje istih"
   ]
  },
  {
   "cell_type": "code",
   "execution_count": 71,
   "metadata": {},
   "outputs": [
    {
     "name": "stdout",
     "output_type": "stream",
     "text": [
      "['35' '30' '25' '45' '15' 'Uncoded & errors' '40' '20' '55' '5' '70' '50'\n",
      " '10' '65' '60']\n"
     ]
    }
   ],
   "source": [
    "\n",
    "print(podaci['Speed Limit at Crash Site'].unique())"
   ]
  },
  {
   "cell_type": "code",
   "execution_count": 72,
   "metadata": {},
   "outputs": [
    {
     "name": "stdout",
     "output_type": "stream",
     "text": [
      "[35 30 25 45 15 -1 40 20 55  5 70 50 10 65 60]\n"
     ]
    }
   ],
   "source": [
    "podaci['Speed Limit at Crash Site'] = podaci['Speed Limit at Crash Site'].str.replace('Uncoded & errors', '-1')\n",
    "podaci['Speed Limit at Crash Site'] = podaci['Speed Limit at Crash Site'].astype('int')\n",
    "print(podaci['Speed Limit at Crash Site'].unique())"
   ]
  },
  {
   "cell_type": "code",
   "execution_count": 73,
   "metadata": {},
   "outputs": [
    {
     "name": "stdout",
     "output_type": "stream",
     "text": [
      "<bound method Series.unique of 0       DOB invalid\n",
      "1                44\n",
      "2       DOB invalid\n",
      "3       DOB invalid\n",
      "4       DOB invalid\n",
      "           ...     \n",
      "6804    DOB invalid\n",
      "6805             22\n",
      "6806    DOB invalid\n",
      "6807    DOB invalid\n",
      "6808             55\n",
      "Name: Person Age, Length: 6809, dtype: object>\n"
     ]
    }
   ],
   "source": [
    "print(podaci['Person Age'].unique)"
   ]
  },
  {
   "cell_type": "code",
   "execution_count": 74,
   "metadata": {},
   "outputs": [
    {
     "name": "stdout",
     "output_type": "stream",
     "text": [
      "0       -1\n",
      "1       44\n",
      "2       -1\n",
      "3       -1\n",
      "4       -1\n",
      "        ..\n",
      "6804    -1\n",
      "6805    22\n",
      "6806    -1\n",
      "6807    -1\n",
      "6808    55\n",
      "Name: Person Age, Length: 6809, dtype: int32\n"
     ]
    }
   ],
   "source": [
    "podaci['Person Age'] = podaci['Person Age'].str.replace('DOB invalid', '-1')\n",
    "podaci['Person Age'] = podaci['Person Age'].str.replace('Less than 1 year old', '0')\n",
    "podaci['Person Age'] = podaci['Person Age'].astype('int')\n",
    "print(podaci['Person Age'])"
   ]
  },
  {
   "attachments": {},
   "cell_type": "markdown",
   "metadata": {},
   "source": [
    "provjera nedostajućih vrijednosti"
   ]
  },
  {
   "cell_type": "code",
   "execution_count": 75,
   "metadata": {},
   "outputs": [
    {
     "name": "stdout",
     "output_type": "stream",
     "text": [
      "Crash Year                    0\n",
      "Crash Month                   0\n",
      "Crash Day                     0\n",
      "Time of Day                   0\n",
      "Day of Week                   0\n",
      "City or Township              0\n",
      "Crash: Intersection           0\n",
      "Crash: Hit-and-Run            0\n",
      "Lighting Conditions           0\n",
      "Weather Conditions (2016+)    0\n",
      "Speed Limit at Crash Site     0\n",
      "Worst Injury in Crash         0\n",
      "Party Type                    0\n",
      "Person Age                    0\n",
      "Person Gender                 0\n",
      "dtype: int64\n"
     ]
    }
   ],
   "source": [
    "print(podaci.isna().sum())"
   ]
  },
  {
   "attachments": {},
   "cell_type": "markdown",
   "metadata": {},
   "source": [
    "Provjera ponavljajućih vrijednosti"
   ]
  },
  {
   "cell_type": "code",
   "execution_count": 77,
   "metadata": {},
   "outputs": [
    {
     "name": "stdout",
     "output_type": "stream",
     "text": [
      "False    6809\n",
      "dtype: int64\n"
     ]
    }
   ],
   "source": [
    "podaci_duplicates = podaci.duplicated()\n",
    "print(podaci_duplicates.value_counts())"
   ]
  },
  {
   "attachments": {},
   "cell_type": "markdown",
   "metadata": {},
   "source": [
    "Nakon što je odrađena provjera podataka, možemo krenuti na analizu"
   ]
  },
  {
   "cell_type": "code",
   "execution_count": 83,
   "metadata": {},
   "outputs": [
    {
     "data": {
      "image/png": "[encoded data removed]",
      "text/plain": [
       "<Figure size 1296x648 with 1 Axes>"
      ]
     },
     "metadata": {
      "needs_background": "light"
     },
     "output_type": "display_data"
    },
    {
     "data": {
      "text/plain": [
       "<Figure size 432x288 with 0 Axes>"
      ]
     },
     "metadata": {},
     "output_type": "display_data"
    }
   ],
   "source": [
    "plt.figure(figsize=(18,9))\n",
    "ax = sns.countplot(x='Crash Year', data=podaci)\n",
    "#ax.bar_label(ax.containers[0])\n",
    "plt.title(\"Ukupno sudara po godini\")\n",
    "plt.show()\n",
    "plt.clf()"
   ]
  }
 ],
 "metadata": {
  "kernelspec": {
   "display_name": "Python 3.6.8 64-bit",
   "language": "python",
   "name": "python3"
  },
  "language_info": {
   "codemirror_mode": {
    "name": "ipython",
    "version": 3
   },
   "file_extension": ".py",
   "mimetype": "text/x-python",
   "name": "python",
   "nbconvert_exporter": "python",
   "pygments_lexer": "ipython3",
   "version": "3.6.8"
  },
  "orig_nbformat": 4,
  "vscode": {
   "interpreter": {
    "hash": "a4f6684756cad7d06e50a033f66b8e4e0e24205bb22275683e3dcf73a4e713af"
   }
  }
 },
 "nbformat": 4,
 "nbformat_minor": 2
}
