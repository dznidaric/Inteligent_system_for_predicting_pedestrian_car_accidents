{
 "cells": [
  {
   "cell_type": "markdown",
   "metadata": {},
   "source": [
    "Ucitavanje biblioteka"
   ]
  },
  {
   "cell_type": "code",
   "execution_count": 2,
   "metadata": {},
   "outputs": [
    {
     "name": "stdout",
     "output_type": "stream",
     "text": [
      "0.9.0\n"
     ]
    }
   ],
   "source": [
    "import numpy as np # linear algebra\n",
    "import pandas as pd # data processing\n",
    "import matplotlib.pyplot as plt\n",
    "%matplotlib inline\n",
    "import seaborn as sns\n",
    "import os\n",
    "from dotenv import load_dotenv\n",
    "load_dotenv()\n",
    "import geopandas as gpd\n",
    "import folium\n",
    "from geopy.geocoders import Nominatim\n",
    "print(gpd.__version__)\n",
    "from folium.plugins import HeatMap, HeatMapWithTime\n",
    "import itertools"
   ]
  },
  {
   "cell_type": "markdown",
   "metadata": {},
   "source": [
    "Učitavanje i prikazivanje podataka iz csv datoteke."
   ]
  },
  {
   "cell_type": "code",
   "execution_count": 383,
   "metadata": {},
   "outputs": [],
   "source": [
    "file = os.environ.get(\"RAW_DATA_FILE\")\n",
    "podaci = pd.read_csv(f'{file}')\n",
    "podaci[['Crash Year','Crash Month','Crash Day','Time of Day','Day of Week','City or Township','Crash: Intersection','Crash: Hit-and-Run','Lighting Conditions','Weather Conditions (2016+)','Speed Limit at Crash Site','Worst Injury in Crash','Party Type','Person Age','Person Gender']].describe()\n",
    "podaci['City'] = podaci['City or Township'].str.split(':').str[1].str.strip()\n",
    "podaci.drop(\"City or Township\",axis=1,inplace=True)\n"
   ]
  },
  {
   "cell_type": "code",
   "execution_count": 230,
   "metadata": {},
   "outputs": [
    {
     "data": {
      "text/html": [
       "<div>\n",
       "<style scoped>\n",
       "    .dataframe tbody tr th:only-of-type {\n",
       "        vertical-align: middle;\n",
       "    }\n",
       "\n",
       "    .dataframe tbody tr th {\n",
       "        vertical-align: top;\n",
       "    }\n",
       "\n",
       "    .dataframe thead th {\n",
       "        text-align: right;\n",
       "    }\n",
       "</style>\n",
       "<table border=\"1\" class=\"dataframe\">\n",
       "  <thead>\n",
       "    <tr style=\"text-align: right;\">\n",
       "      <th></th>\n",
       "      <th>Crash Month</th>\n",
       "      <th>Time of Day</th>\n",
       "      <th>Day of Week</th>\n",
       "      <th>Crash: Intersection</th>\n",
       "      <th>Crash: Hit-and-Run</th>\n",
       "      <th>Lighting Conditions</th>\n",
       "      <th>Weather Conditions (2016+)</th>\n",
       "      <th>Speed Limit at Crash Site</th>\n",
       "      <th>Worst Injury in Crash</th>\n",
       "      <th>Party Type</th>\n",
       "      <th>Person Age</th>\n",
       "      <th>Person Gender</th>\n",
       "      <th>City</th>\n",
       "    </tr>\n",
       "  </thead>\n",
       "  <tbody>\n",
       "    <tr>\n",
       "      <th>count</th>\n",
       "      <td>6809</td>\n",
       "      <td>6809</td>\n",
       "      <td>6809</td>\n",
       "      <td>6809</td>\n",
       "      <td>6809</td>\n",
       "      <td>6809</td>\n",
       "      <td>6809</td>\n",
       "      <td>6809</td>\n",
       "      <td>6809</td>\n",
       "      <td>6809</td>\n",
       "      <td>6809</td>\n",
       "      <td>6809</td>\n",
       "      <td>6809</td>\n",
       "    </tr>\n",
       "    <tr>\n",
       "      <th>unique</th>\n",
       "      <td>12</td>\n",
       "      <td>25</td>\n",
       "      <td>7</td>\n",
       "      <td>2</td>\n",
       "      <td>2</td>\n",
       "      <td>8</td>\n",
       "      <td>10</td>\n",
       "      <td>15</td>\n",
       "      <td>5</td>\n",
       "      <td>1</td>\n",
       "      <td>87</td>\n",
       "      <td>3</td>\n",
       "      <td>43</td>\n",
       "    </tr>\n",
       "    <tr>\n",
       "      <th>top</th>\n",
       "      <td>October</td>\n",
       "      <td>6:00 PM - 7:00 PM</td>\n",
       "      <td>Friday</td>\n",
       "      <td>Not intersection crash</td>\n",
       "      <td>Not hit-and-run</td>\n",
       "      <td>Daylight</td>\n",
       "      <td>Uncoded &amp; errors</td>\n",
       "      <td>25</td>\n",
       "      <td>Possible injury (C)</td>\n",
       "      <td>Motor vehicle driver</td>\n",
       "      <td>DOB invalid</td>\n",
       "      <td>Male</td>\n",
       "      <td>Detroit</td>\n",
       "    </tr>\n",
       "    <tr>\n",
       "      <th>freq</th>\n",
       "      <td>695</td>\n",
       "      <td>535</td>\n",
       "      <td>1078</td>\n",
       "      <td>3852</td>\n",
       "      <td>4300</td>\n",
       "      <td>3630</td>\n",
       "      <td>4613</td>\n",
       "      <td>2233</td>\n",
       "      <td>2489</td>\n",
       "      <td>6809</td>\n",
       "      <td>2470</td>\n",
       "      <td>2905</td>\n",
       "      <td>4543</td>\n",
       "    </tr>\n",
       "  </tbody>\n",
       "</table>\n",
       "</div>"
      ],
      "text/plain": [
       "       Crash Month        Time of Day Day of Week     Crash: Intersection  \\\n",
       "count         6809               6809        6809                    6809   \n",
       "unique          12                 25           7                       2   \n",
       "top        October  6:00 PM - 7:00 PM      Friday  Not intersection crash   \n",
       "freq           695                535        1078                    3852   \n",
       "\n",
       "       Crash: Hit-and-Run Lighting Conditions Weather Conditions (2016+)  \\\n",
       "count                6809                6809                       6809   \n",
       "unique                  2                   8                         10   \n",
       "top       Not hit-and-run            Daylight           Uncoded & errors   \n",
       "freq                 4300                3630                       4613   \n",
       "\n",
       "       Speed Limit at Crash Site Worst Injury in Crash            Party Type  \\\n",
       "count                       6809                  6809                  6809   \n",
       "unique                        15                     5                     1   \n",
       "top                           25   Possible injury (C)  Motor vehicle driver   \n",
       "freq                        2233                  2489                  6809   \n",
       "\n",
       "         Person Age Person Gender     City  \n",
       "count          6809          6809     6809  \n",
       "unique           87             3       43  \n",
       "top     DOB invalid          Male  Detroit  \n",
       "freq           2470          2905     4543  "
      ]
     },
     "execution_count": 230,
     "metadata": {},
     "output_type": "execute_result"
    }
   ],
   "source": [
    "podaci.describe(include='object')"
   ]
  },
  {
   "cell_type": "code",
   "execution_count": null,
   "metadata": {},
   "outputs": [],
   "source": [
    "podaci[\"Worst Injury in Crash\"].unique()"
   ]
  },
  {
   "cell_type": "markdown",
   "metadata": {},
   "source": [
    "informacija o podacima (tipovi, nedostajuće vrijednosti)"
   ]
  },
  {
   "cell_type": "code",
   "execution_count": null,
   "metadata": {},
   "outputs": [],
   "source": [
    "podaci.info()"
   ]
  },
  {
   "attachments": {},
   "cell_type": "markdown",
   "metadata": {},
   "source": [
    "Provjera neispravnih vrijednosti u setu podataka i ispravljanje istih"
   ]
  },
  {
   "cell_type": "code",
   "execution_count": null,
   "metadata": {},
   "outputs": [],
   "source": [
    "\n",
    "print(podaci['Speed Limit at Crash Site'].unique())\n",
    "print(podaci['Person Age'].unique())\n",
    "print(podaci['Weather Conditions (2016+)'].unique())\n",
    "print(podaci['Lighting Conditions'].unique())"
   ]
  },
  {
   "cell_type": "code",
   "execution_count": 381,
   "metadata": {},
   "outputs": [
    {
     "name": "stdout",
     "output_type": "stream",
     "text": [
      "['February' 'March' 'April' 'May' 'June' 'July' 'August' 'September'\n",
      " 'October' 'November' 'December' 'January']\n",
      "['9:00 AM - 10:00 AM' '7:00 PM - 8:00 PM' '11:00 AM - 12:00 noon'\n",
      " '6:00 PM - 7:00 PM' '2:00 PM - 3:00 PM' '1:00 PM - 2:00 PM'\n",
      " '8:00 AM - 9:00 AM' '3:00 PM - 4:00 PM' '8:00 PM - 9:00 PM'\n",
      " '10:00 PM - 11:00 PM' '12:00 noon - 1:00 PM' '5:00 PM - 6:00 PM'\n",
      " '11:00 PM - 12:00 midnight' '7:00 AM - 8:00 AM' '5:00 AM - 6:00 AM'\n",
      " '10:00 AM - 11:00 AM' '9:00 PM - 10:00 PM' '4:00 PM - 5:00 PM'\n",
      " '2:00 AM - 3:00 AM' '4:00 AM - 5:00 AM' '1:00 AM - 2:00 AM'\n",
      " '12:00 midnight - 1:00 AM' '3:00 AM - 4:00 AM' '6:00 AM - 7:00 AM'\n",
      " 'Unknown']\n",
      "['Thursday' 'Sunday' 'Tuesday' 'Friday' 'Wednesday' 'Saturday' 'Monday']\n",
      "['Not intersection crash' 'Intersection crash']\n",
      "['Hit-and-run' 'Not hit-and-run']\n",
      "['Daylight' 'Dark lighted' 'Dusk' 'Dark unlighted' 'Unknown' 'Dawn'\n",
      " 'Other / unknown']\n",
      "['Clear' 'Cloudy' 'Snow' 'Rain' 'Unknown' 'Smoke' 'Sleet/hail' 'Fog'\n",
      " 'Blowing snow' 'None']\n",
      "['Suspected minor injury (B)' 'Suspected serious injury (A)'\n",
      " 'Possible injury (C)' 'No injury (O)' 'Fatal injury (K)']\n",
      "['Motor vehicle driver']\n",
      "['-1' 'Female' 'Male']\n",
      "['Detroit' 'Southgate' 'Belleville' 'Inkster' 'Livonia' 'Wyandotte'\n",
      " 'Dearborn' 'Northville' 'Hamtramck' 'Redford Twp.' 'Van Buren Twp.'\n",
      " 'Plymouth Twp.' 'Lincoln Park' 'Grosse Pointe' 'Grosse Pointe Park'\n",
      " 'Dearborn Heights' 'Taylor' 'Allen Park' 'Garden City' 'Romulus'\n",
      " 'Highland Park' 'Westland' 'Northville Twp.' 'Grosse Pointe Woods'\n",
      " 'Harper Woods' 'Canton Twp.' 'Wood Haven' 'Brownstown Twp.' 'Huron Twp.'\n",
      " 'Wayne' 'Plymouth' 'Ecorse' 'Trenton' 'Melvindale' 'Sumpter Twp.'\n",
      " 'Grosse Pointe Shores' 'Riverview' 'Rockwood' 'Grosse Pointe Farms'\n",
      " 'River Rouge' 'Flat Rock' 'Gibraltar' 'Grosse Ile Twp.']\n"
     ]
    }
   ],
   "source": [
    "for col in podaci.dtypes[podaci.dtypes == \"object\"].index:\n",
    "    print(podaci[col].unique())\n",
    "    if(podaci[col].str.contains(\"Uncoded & errors\").any()):\n",
    "        print(podaci[col])\n"
   ]
  },
  {
   "cell_type": "code",
   "execution_count": 384,
   "metadata": {},
   "outputs": [],
   "source": [
    "podaci['Speed Limit at Crash Site'] = podaci['Speed Limit at Crash Site'].str.replace('Uncoded & errors', '-1')\n",
    "podaci['Speed Limit at Crash Site'] = podaci['Speed Limit at Crash Site'].astype('int')\n",
    "\n",
    "godine_temp = podaci['Person Age'].replace(\"DOB invalid\", np.nan).replace('Less than 1 year old', 0)\n",
    "godine_mean = pd.to_numeric(godine_temp, errors='coerce').mean()\n",
    "podaci['Person Age'] = podaci['Person Age'].str.replace('DOB invalid', str(int(godine_mean)))\n",
    "podaci['Person Age'] = podaci['Person Age'].str.replace('Less than 1 year old', '0')\n",
    "podaci['Person Age'] = podaci['Person Age'].astype('int')\n",
    "\n",
    "podaci['Weather Conditions (2016+)'] = podaci['Weather Conditions (2016+)'].str.replace('Uncoded & errors', 'None')\n",
    "\n",
    "podaci['Lighting Conditions'] = podaci['Lighting Conditions'].str.replace('Uncoded & errors', 'Other / unknown')\n",
    "\n",
    "podaci['Person Gender'] = podaci['Person Gender'].str.replace('Uncoded & errors', \"unknown\")"
   ]
  },
  {
   "attachments": {},
   "cell_type": "markdown",
   "metadata": {},
   "source": [
    "provjera nedostajućih vrijednosti"
   ]
  },
  {
   "cell_type": "code",
   "execution_count": null,
   "metadata": {},
   "outputs": [],
   "source": [
    "print(podaci.isna().sum())"
   ]
  },
  {
   "attachments": {},
   "cell_type": "markdown",
   "metadata": {},
   "source": [
    "Provjera ponavljajućih vrijednosti"
   ]
  },
  {
   "cell_type": "code",
   "execution_count": 117,
   "metadata": {},
   "outputs": [
    {
     "name": "stdout",
     "output_type": "stream",
     "text": [
      "False    6809\n",
      "dtype: int64\n"
     ]
    }
   ],
   "source": [
    "podaci_duplicates = podaci.duplicated()\n",
    "print(podaci_duplicates.value_counts())"
   ]
  },
  {
   "attachments": {},
   "cell_type": "markdown",
   "metadata": {},
   "source": [
    "Nakon što je odrađena provjera podataka, možemo krenuti na analizu"
   ]
  },
  {
   "cell_type": "code",
   "execution_count": null,
   "metadata": {},
   "outputs": [],
   "source": [
    "plt.figure(figsize=(18,9))\n",
    "ax = sns.countplot(x='Crash Year', data=podaci)\n",
    "#ax.bar_label(ax.containers[0])\n",
    "plt.title(\"Ukupno sudara po godini\")\n",
    "plt.show()\n",
    "plt.clf()"
   ]
  },
  {
   "attachments": {},
   "cell_type": "markdown",
   "metadata": {},
   "source": [
    "Pokušaj prikaza sudara na mapi"
   ]
  },
  {
   "cell_type": "code",
   "execution_count": null,
   "metadata": {},
   "outputs": [],
   "source": [
    "county_shapefile = gpd.read_file(\"./data/wayne_county/Cities.shp\")\n",
    "\n",
    "podaci['Car crashes'] = 0\n",
    "\n",
    "# print(county_shapefile.columns.values.tolist())\n",
    "# print(podaci.columns.values.tolist())\n",
    "\n",
    "grupirano = podaci[['Crash Year', 'City or Township']].groupby(['City or Township'])\n",
    "print(grupirano)\n",
    "\n",
    "\n",
    "\n",
    "grupirano_po_godinama = pd.DataFrame({'Car crashes' : podaci.groupby( ['City', 'Crash Year'] ).size()}).reset_index().sort_values(['Crash Year','City'])\n",
    "print(grupirano_po_godinama)\n",
    "\n",
    "merged_data = county_shapefile.merge(grupirano_po_godinama, left_on='NAME', right_on='City', how='right').sort_values(['Crash Year','City'])\n",
    "print(merged_data.shape)\n",
    "print(merged_data.columns.values.tolist())\n",
    "data_top = merged_data.head(25)\n",
    "# display \n",
    "data_top \n"
   ]
  },
  {
   "cell_type": "code",
   "execution_count": null,
   "metadata": {},
   "outputs": [],
   "source": [
    "value='Ecorse'\n",
    "df2=merged_data.query(\"City == @value\")\n",
    "print(df2.head(10))"
   ]
  },
  {
   "attachments": {},
   "cell_type": "markdown",
   "metadata": {},
   "source": [
    "Generiranje mape sa brojem sudara po godinama"
   ]
  },
  {
   "cell_type": "code",
   "execution_count": 99,
   "metadata": {},
   "outputs": [],
   "source": [
    "geolocator = Nominatim(user_agent=\"geoapiExercises\")\n",
    "\n",
    "location_dict = {city: [] for city in merged_data[\"City\"].unique()}\n",
    "\n",
    "\n",
    "for city in merged_data[\"City\"].unique():\n",
    "    location = geolocator.geocode(city)\n",
    "    latitude = location.latitude\n",
    "    longitude = location.longitude\n",
    "    location_dict[city] = [latitude, longitude]\n"
   ]
  },
  {
   "attachments": {},
   "cell_type": "markdown",
   "metadata": {},
   "source": [
    "normalizacija težine u broju nesreća i spremanje svega u format koji traži HeatMapWithTime ( [[[]]] )"
   ]
  },
  {
   "cell_type": "code",
   "execution_count": 100,
   "metadata": {},
   "outputs": [],
   "source": [
    "min_value = merged_data['Car crashes'].min()\n",
    "max_value = merged_data['Car crashes'].max()\n",
    "\n",
    "heatmap_data_time = [[[location_dict[city][0], location_dict[city][1], (merged_data[(merged_data[\"City\"] == city) & (merged_data[\"Crash Year\"] == year)][\"Car crashes\"].values[0]-min_value)/(max_value-min_value) if len(merged_data[(merged_data[\"City\"] == city) & (merged_data[\"Crash Year\"] == year)]) > 0 else 0]\n",
    "                      for city in merged_data[\"City\"].unique()] for year in range(2010, 2019) ]\n"
   ]
  },
  {
   "cell_type": "code",
   "execution_count": null,
   "metadata": {},
   "outputs": [],
   "source": [
    "        \n",
    "print(np.shape(heatmap_data_time))\n",
    "godine = merged_data['Crash Year'].unique().tolist()\n",
    "print(godine)\n",
    "print(len(godine))"
   ]
  },
  {
   "cell_type": "code",
   "execution_count": 112,
   "metadata": {},
   "outputs": [],
   "source": [
    "m = folium.Map(location=[42.3314, -83.0458], zoom_start=10.2, #tiles='CartoDB positron'\n",
    ")\n",
    "#folium.GeoJson(merged_data).add_to(m)\n"
   ]
  },
  {
   "cell_type": "code",
   "execution_count": 113,
   "metadata": {},
   "outputs": [],
   "source": [
    "\n",
    "# Add the heatmap to the map\n",
    "HeatMapWithTime(heatmap_data_time, \n",
    "                auto_play=True,\n",
    "                index=godine,\n",
    "                display_index=True,\n",
    "                gradient={0.3: 'blue', 0.5: 'lime', 0.8: 'orange', 1: 'red'},\n",
    "                radius=30,\n",
    "                max_opacity=0.8\n",
    "                ).add_to(m)\n",
    "\n",
    "# Save the map as an HTML file\n",
    "m.save(\"county_map_heatmap_time.html\")\n"
   ]
  },
  {
   "attachments": {},
   "cell_type": "markdown",
   "metadata": {},
   "source": [
    "Završena kreirana mapa sa mjestima nesreće"
   ]
  },
  {
   "attachments": {},
   "cell_type": "markdown",
   "metadata": {},
   "source": [
    "Izrada prediktivnog modela"
   ]
  },
  {
   "cell_type": "code",
   "execution_count": 210,
   "metadata": {},
   "outputs": [
    {
     "name": "stderr",
     "output_type": "stream",
     "text": [
      "c:\\Users\\Domagoj\\AppData\\Local\\Programs\\Python\\Python36\\lib\\site-packages\\seaborn\\_decorators.py:43: FutureWarning: Pass the following variable as a keyword arg: x. From version 0.12, the only valid positional argument will be `data`, and passing other arguments without an explicit keyword will result in an error or misinterpretation.\n",
      "  FutureWarning\n"
     ]
    },
    {
     "data": {
      "image/png": "[encoded data removed]",
      "text/plain": [
       "<Figure size 1296x648 with 1 Axes>"
      ]
     },
     "metadata": {
      "needs_background": "light"
     },
     "output_type": "display_data"
    },
    {
     "data": {
      "text/plain": [
       "<Figure size 432x288 with 0 Axes>"
      ]
     },
     "metadata": {},
     "output_type": "display_data"
    }
   ],
   "source": [
    "plt.figure(figsize=(18,9))\n",
    "sns.countplot(podaci['Worst Injury in Crash'])\n",
    "plt.xlabel(\"Injury\")\n",
    "plt.ylabel(\"Count of injury\")\n",
    "plt.title(\"Types of injury count plot\")\n",
    "plt.show()\n",
    "plt.clf()"
   ]
  },
  {
   "cell_type": "code",
   "execution_count": 344,
   "metadata": {},
   "outputs": [],
   "source": [
    "from sklearn.model_selection import train_test_split\n",
    "from sklearn.preprocessing import StandardScaler\n",
    "from sklearn.preprocessing import OrdinalEncoder\n",
    "from sklearn.decomposition import PCA\n"
   ]
  },
  {
   "cell_type": "code",
   "execution_count": 385,
   "metadata": {},
   "outputs": [
    {
     "data": {
      "text/html": [
       "<div>\n",
       "<style scoped>\n",
       "    .dataframe tbody tr th:only-of-type {\n",
       "        vertical-align: middle;\n",
       "    }\n",
       "\n",
       "    .dataframe tbody tr th {\n",
       "        vertical-align: top;\n",
       "    }\n",
       "\n",
       "    .dataframe thead th {\n",
       "        text-align: right;\n",
       "    }\n",
       "</style>\n",
       "<table border=\"1\" class=\"dataframe\">\n",
       "  <thead>\n",
       "    <tr style=\"text-align: right;\">\n",
       "      <th></th>\n",
       "      <th>Crash Year</th>\n",
       "      <th>Crash Day</th>\n",
       "      <th>Speed Limit at Crash Site</th>\n",
       "      <th>Person Age</th>\n",
       "      <th>Crash Month_April</th>\n",
       "      <th>Crash Month_August</th>\n",
       "      <th>Crash Month_December</th>\n",
       "      <th>Crash Month_February</th>\n",
       "      <th>Crash Month_January</th>\n",
       "      <th>Crash Month_July</th>\n",
       "      <th>...</th>\n",
       "      <th>Weather Conditions (2016+)_Snow</th>\n",
       "      <th>Weather Conditions (2016+)_Unknown</th>\n",
       "      <th>Person Gender_Female</th>\n",
       "      <th>Person Gender_Male</th>\n",
       "      <th>Person Gender_unknown</th>\n",
       "      <th>Worst Injury in Crash_Fatal injury (K)</th>\n",
       "      <th>Worst Injury in Crash_No injury (O)</th>\n",
       "      <th>Worst Injury in Crash_Possible injury (C)</th>\n",
       "      <th>Worst Injury in Crash_Suspected minor injury (B)</th>\n",
       "      <th>Worst Injury in Crash_Suspected serious injury (A)</th>\n",
       "    </tr>\n",
       "  </thead>\n",
       "  <tbody>\n",
       "    <tr>\n",
       "      <th>count</th>\n",
       "      <td>6809.000000</td>\n",
       "      <td>6809.000000</td>\n",
       "      <td>6809.000000</td>\n",
       "      <td>6809.000000</td>\n",
       "      <td>6809.000000</td>\n",
       "      <td>6809.000000</td>\n",
       "      <td>6809.000000</td>\n",
       "      <td>6809.000000</td>\n",
       "      <td>6809.000000</td>\n",
       "      <td>6809.000000</td>\n",
       "      <td>...</td>\n",
       "      <td>6809.000000</td>\n",
       "      <td>6809.000000</td>\n",
       "      <td>6809.000000</td>\n",
       "      <td>6809.000000</td>\n",
       "      <td>6809.000000</td>\n",
       "      <td>6809.000000</td>\n",
       "      <td>6809.000000</td>\n",
       "      <td>6809.000000</td>\n",
       "      <td>6809.000000</td>\n",
       "      <td>6809.000000</td>\n",
       "    </tr>\n",
       "    <tr>\n",
       "      <th>mean</th>\n",
       "      <td>2013.992216</td>\n",
       "      <td>15.384197</td>\n",
       "      <td>31.264650</td>\n",
       "      <td>42.415626</td>\n",
       "      <td>0.065502</td>\n",
       "      <td>0.075195</td>\n",
       "      <td>0.088706</td>\n",
       "      <td>0.070789</td>\n",
       "      <td>0.082097</td>\n",
       "      <td>0.077985</td>\n",
       "      <td>...</td>\n",
       "      <td>0.007637</td>\n",
       "      <td>0.004700</td>\n",
       "      <td>0.292701</td>\n",
       "      <td>0.426641</td>\n",
       "      <td>0.280658</td>\n",
       "      <td>0.075488</td>\n",
       "      <td>0.145836</td>\n",
       "      <td>0.365546</td>\n",
       "      <td>0.254075</td>\n",
       "      <td>0.159054</td>\n",
       "    </tr>\n",
       "    <tr>\n",
       "      <th>std</th>\n",
       "      <td>2.597471</td>\n",
       "      <td>8.701025</td>\n",
       "      <td>11.573661</td>\n",
       "      <td>14.015623</td>\n",
       "      <td>0.247427</td>\n",
       "      <td>0.263724</td>\n",
       "      <td>0.284340</td>\n",
       "      <td>0.256490</td>\n",
       "      <td>0.274533</td>\n",
       "      <td>0.268168</td>\n",
       "      <td>...</td>\n",
       "      <td>0.087062</td>\n",
       "      <td>0.068398</td>\n",
       "      <td>0.455036</td>\n",
       "      <td>0.494626</td>\n",
       "      <td>0.449354</td>\n",
       "      <td>0.264197</td>\n",
       "      <td>0.352968</td>\n",
       "      <td>0.481618</td>\n",
       "      <td>0.435372</td>\n",
       "      <td>0.365753</td>\n",
       "    </tr>\n",
       "    <tr>\n",
       "      <th>min</th>\n",
       "      <td>2010.000000</td>\n",
       "      <td>1.000000</td>\n",
       "      <td>-1.000000</td>\n",
       "      <td>0.000000</td>\n",
       "      <td>0.000000</td>\n",
       "      <td>0.000000</td>\n",
       "      <td>0.000000</td>\n",
       "      <td>0.000000</td>\n",
       "      <td>0.000000</td>\n",
       "      <td>0.000000</td>\n",
       "      <td>...</td>\n",
       "      <td>0.000000</td>\n",
       "      <td>0.000000</td>\n",
       "      <td>0.000000</td>\n",
       "      <td>0.000000</td>\n",
       "      <td>0.000000</td>\n",
       "      <td>0.000000</td>\n",
       "      <td>0.000000</td>\n",
       "      <td>0.000000</td>\n",
       "      <td>0.000000</td>\n",
       "      <td>0.000000</td>\n",
       "    </tr>\n",
       "    <tr>\n",
       "      <th>25%</th>\n",
       "      <td>2012.000000</td>\n",
       "      <td>8.000000</td>\n",
       "      <td>25.000000</td>\n",
       "      <td>35.000000</td>\n",
       "      <td>0.000000</td>\n",
       "      <td>0.000000</td>\n",
       "      <td>0.000000</td>\n",
       "      <td>0.000000</td>\n",
       "      <td>0.000000</td>\n",
       "      <td>0.000000</td>\n",
       "      <td>...</td>\n",
       "      <td>0.000000</td>\n",
       "      <td>0.000000</td>\n",
       "      <td>0.000000</td>\n",
       "      <td>0.000000</td>\n",
       "      <td>0.000000</td>\n",
       "      <td>0.000000</td>\n",
       "      <td>0.000000</td>\n",
       "      <td>0.000000</td>\n",
       "      <td>0.000000</td>\n",
       "      <td>0.000000</td>\n",
       "    </tr>\n",
       "    <tr>\n",
       "      <th>50%</th>\n",
       "      <td>2014.000000</td>\n",
       "      <td>15.000000</td>\n",
       "      <td>30.000000</td>\n",
       "      <td>42.000000</td>\n",
       "      <td>0.000000</td>\n",
       "      <td>0.000000</td>\n",
       "      <td>0.000000</td>\n",
       "      <td>0.000000</td>\n",
       "      <td>0.000000</td>\n",
       "      <td>0.000000</td>\n",
       "      <td>...</td>\n",
       "      <td>0.000000</td>\n",
       "      <td>0.000000</td>\n",
       "      <td>0.000000</td>\n",
       "      <td>0.000000</td>\n",
       "      <td>0.000000</td>\n",
       "      <td>0.000000</td>\n",
       "      <td>0.000000</td>\n",
       "      <td>0.000000</td>\n",
       "      <td>0.000000</td>\n",
       "      <td>0.000000</td>\n",
       "    </tr>\n",
       "    <tr>\n",
       "      <th>75%</th>\n",
       "      <td>2016.000000</td>\n",
       "      <td>23.000000</td>\n",
       "      <td>35.000000</td>\n",
       "      <td>48.000000</td>\n",
       "      <td>0.000000</td>\n",
       "      <td>0.000000</td>\n",
       "      <td>0.000000</td>\n",
       "      <td>0.000000</td>\n",
       "      <td>0.000000</td>\n",
       "      <td>0.000000</td>\n",
       "      <td>...</td>\n",
       "      <td>0.000000</td>\n",
       "      <td>0.000000</td>\n",
       "      <td>1.000000</td>\n",
       "      <td>1.000000</td>\n",
       "      <td>1.000000</td>\n",
       "      <td>0.000000</td>\n",
       "      <td>0.000000</td>\n",
       "      <td>1.000000</td>\n",
       "      <td>1.000000</td>\n",
       "      <td>0.000000</td>\n",
       "    </tr>\n",
       "    <tr>\n",
       "      <th>max</th>\n",
       "      <td>2018.000000</td>\n",
       "      <td>31.000000</td>\n",
       "      <td>70.000000</td>\n",
       "      <td>95.000000</td>\n",
       "      <td>1.000000</td>\n",
       "      <td>1.000000</td>\n",
       "      <td>1.000000</td>\n",
       "      <td>1.000000</td>\n",
       "      <td>1.000000</td>\n",
       "      <td>1.000000</td>\n",
       "      <td>...</td>\n",
       "      <td>1.000000</td>\n",
       "      <td>1.000000</td>\n",
       "      <td>1.000000</td>\n",
       "      <td>1.000000</td>\n",
       "      <td>1.000000</td>\n",
       "      <td>1.000000</td>\n",
       "      <td>1.000000</td>\n",
       "      <td>1.000000</td>\n",
       "      <td>1.000000</td>\n",
       "      <td>1.000000</td>\n",
       "    </tr>\n",
       "  </tbody>\n",
       "</table>\n",
       "<p>8 rows × 77 columns</p>\n",
       "</div>"
      ],
      "text/plain": [
       "        Crash Year    Crash Day  Speed Limit at Crash Site   Person Age  \\\n",
       "count  6809.000000  6809.000000                6809.000000  6809.000000   \n",
       "mean   2013.992216    15.384197                  31.264650    42.415626   \n",
       "std       2.597471     8.701025                  11.573661    14.015623   \n",
       "min    2010.000000     1.000000                  -1.000000     0.000000   \n",
       "25%    2012.000000     8.000000                  25.000000    35.000000   \n",
       "50%    2014.000000    15.000000                  30.000000    42.000000   \n",
       "75%    2016.000000    23.000000                  35.000000    48.000000   \n",
       "max    2018.000000    31.000000                  70.000000    95.000000   \n",
       "\n",
       "       Crash Month_April  Crash Month_August  Crash Month_December  \\\n",
       "count        6809.000000         6809.000000           6809.000000   \n",
       "mean            0.065502            0.075195              0.088706   \n",
       "std             0.247427            0.263724              0.284340   \n",
       "min             0.000000            0.000000              0.000000   \n",
       "25%             0.000000            0.000000              0.000000   \n",
       "50%             0.000000            0.000000              0.000000   \n",
       "75%             0.000000            0.000000              0.000000   \n",
       "max             1.000000            1.000000              1.000000   \n",
       "\n",
       "       Crash Month_February  Crash Month_January  Crash Month_July  ...  \\\n",
       "count           6809.000000          6809.000000       6809.000000  ...   \n",
       "mean               0.070789             0.082097          0.077985  ...   \n",
       "std                0.256490             0.274533          0.268168  ...   \n",
       "min                0.000000             0.000000          0.000000  ...   \n",
       "25%                0.000000             0.000000          0.000000  ...   \n",
       "50%                0.000000             0.000000          0.000000  ...   \n",
       "75%                0.000000             0.000000          0.000000  ...   \n",
       "max                1.000000             1.000000          1.000000  ...   \n",
       "\n",
       "       Weather Conditions (2016+)_Snow  Weather Conditions (2016+)_Unknown  \\\n",
       "count                      6809.000000                         6809.000000   \n",
       "mean                          0.007637                            0.004700   \n",
       "std                           0.087062                            0.068398   \n",
       "min                           0.000000                            0.000000   \n",
       "25%                           0.000000                            0.000000   \n",
       "50%                           0.000000                            0.000000   \n",
       "75%                           0.000000                            0.000000   \n",
       "max                           1.000000                            1.000000   \n",
       "\n",
       "       Person Gender_Female  Person Gender_Male  Person Gender_unknown  \\\n",
       "count           6809.000000         6809.000000            6809.000000   \n",
       "mean               0.292701            0.426641               0.280658   \n",
       "std                0.455036            0.494626               0.449354   \n",
       "min                0.000000            0.000000               0.000000   \n",
       "25%                0.000000            0.000000               0.000000   \n",
       "50%                0.000000            0.000000               0.000000   \n",
       "75%                1.000000            1.000000               1.000000   \n",
       "max                1.000000            1.000000               1.000000   \n",
       "\n",
       "       Worst Injury in Crash_Fatal injury (K)  \\\n",
       "count                             6809.000000   \n",
       "mean                                 0.075488   \n",
       "std                                  0.264197   \n",
       "min                                  0.000000   \n",
       "25%                                  0.000000   \n",
       "50%                                  0.000000   \n",
       "75%                                  0.000000   \n",
       "max                                  1.000000   \n",
       "\n",
       "       Worst Injury in Crash_No injury (O)  \\\n",
       "count                          6809.000000   \n",
       "mean                              0.145836   \n",
       "std                               0.352968   \n",
       "min                               0.000000   \n",
       "25%                               0.000000   \n",
       "50%                               0.000000   \n",
       "75%                               0.000000   \n",
       "max                               1.000000   \n",
       "\n",
       "       Worst Injury in Crash_Possible injury (C)  \\\n",
       "count                                6809.000000   \n",
       "mean                                    0.365546   \n",
       "std                                     0.481618   \n",
       "min                                     0.000000   \n",
       "25%                                     0.000000   \n",
       "50%                                     0.000000   \n",
       "75%                                     1.000000   \n",
       "max                                     1.000000   \n",
       "\n",
       "       Worst Injury in Crash_Suspected minor injury (B)  \\\n",
       "count                                       6809.000000   \n",
       "mean                                           0.254075   \n",
       "std                                            0.435372   \n",
       "min                                            0.000000   \n",
       "25%                                            0.000000   \n",
       "50%                                            0.000000   \n",
       "75%                                            1.000000   \n",
       "max                                            1.000000   \n",
       "\n",
       "       Worst Injury in Crash_Suspected serious injury (A)  \n",
       "count                                        6809.000000   \n",
       "mean                                            0.159054   \n",
       "std                                             0.365753   \n",
       "min                                             0.000000   \n",
       "25%                                             0.000000   \n",
       "50%                                             0.000000   \n",
       "75%                                             0.000000   \n",
       "max                                             1.000000   \n",
       "\n",
       "[8 rows x 77 columns]"
      ]
     },
     "execution_count": 385,
     "metadata": {},
     "output_type": "execute_result"
    }
   ],
   "source": [
    "data = podaci\n",
    "#kako bi izbjegli binarnu podjelu kod svih kategorijskih varijabli, brišemo one manje bitne, kako bi sačuvali stvarnu vezu među podacima \n",
    "data.drop(columns=[\"Party Type\",'City'],axis=1,inplace=True)\n",
    "\n",
    "# Encode categorical variables\n",
    "data = pd.get_dummies(podaci, columns=[\"Crash Month\",'Time of Day','Day of Week',\"Crash: Intersection\", \"Crash: Hit-and-Run\",\n",
    "                    \"Lighting Conditions\", \"Weather Conditions (2016+)\", \"Person Gender\",\"Worst Injury in Crash\"])\n",
    "data.info()\n"
   ]
  },
  {
   "cell_type": "code",
   "execution_count": 386,
   "metadata": {},
   "outputs": [
    {
     "name": "stdout",
     "output_type": "stream",
     "text": [
      "<class 'pandas.core.frame.DataFrame'>\n",
      "RangeIndex: 6809 entries, 0 to 6808\n",
      "Data columns (total 77 columns):\n",
      " #   Column                                              Non-Null Count  Dtype\n",
      "---  ------                                              --------------  -----\n",
      " 0   Crash Year                                          6809 non-null   int64\n",
      " 1   Crash Day                                           6809 non-null   int64\n",
      " 2   Speed Limit at Crash Site                           6809 non-null   int32\n",
      " 3   Person Age                                          6809 non-null   int32\n",
      " 4   Crash Month_April                                   6809 non-null   uint8\n",
      " 5   Crash Month_August                                  6809 non-null   uint8\n",
      " 6   Crash Month_December                                6809 non-null   uint8\n",
      " 7   Crash Month_February                                6809 non-null   uint8\n",
      " 8   Crash Month_January                                 6809 non-null   uint8\n",
      " 9   Crash Month_July                                    6809 non-null   uint8\n",
      " 10  Crash Month_June                                    6809 non-null   uint8\n",
      " 11  Crash Month_March                                   6809 non-null   uint8\n",
      " 12  Crash Month_May                                     6809 non-null   uint8\n",
      " 13  Crash Month_November                                6809 non-null   uint8\n",
      " 14  Crash Month_October                                 6809 non-null   uint8\n",
      " 15  Crash Month_September                               6809 non-null   uint8\n",
      " 16  Time of Day_10:00 AM - 11:00 AM                     6809 non-null   uint8\n",
      " 17  Time of Day_10:00 PM - 11:00 PM                     6809 non-null   uint8\n",
      " 18  Time of Day_11:00 AM - 12:00 noon                   6809 non-null   uint8\n",
      " 19  Time of Day_11:00 PM - 12:00 midnight               6809 non-null   uint8\n",
      " 20  Time of Day_12:00 midnight - 1:00 AM                6809 non-null   uint8\n",
      " 21  Time of Day_12:00 noon - 1:00 PM                    6809 non-null   uint8\n",
      " 22  Time of Day_1:00 AM - 2:00 AM                       6809 non-null   uint8\n",
      " 23  Time of Day_1:00 PM - 2:00 PM                       6809 non-null   uint8\n",
      " 24  Time of Day_2:00 AM - 3:00 AM                       6809 non-null   uint8\n",
      " 25  Time of Day_2:00 PM - 3:00 PM                       6809 non-null   uint8\n",
      " 26  Time of Day_3:00 AM - 4:00 AM                       6809 non-null   uint8\n",
      " 27  Time of Day_3:00 PM - 4:00 PM                       6809 non-null   uint8\n",
      " 28  Time of Day_4:00 AM - 5:00 AM                       6809 non-null   uint8\n",
      " 29  Time of Day_4:00 PM - 5:00 PM                       6809 non-null   uint8\n",
      " 30  Time of Day_5:00 AM - 6:00 AM                       6809 non-null   uint8\n",
      " 31  Time of Day_5:00 PM - 6:00 PM                       6809 non-null   uint8\n",
      " 32  Time of Day_6:00 AM - 7:00 AM                       6809 non-null   uint8\n",
      " 33  Time of Day_6:00 PM - 7:00 PM                       6809 non-null   uint8\n",
      " 34  Time of Day_7:00 AM - 8:00 AM                       6809 non-null   uint8\n",
      " 35  Time of Day_7:00 PM - 8:00 PM                       6809 non-null   uint8\n",
      " 36  Time of Day_8:00 AM - 9:00 AM                       6809 non-null   uint8\n",
      " 37  Time of Day_8:00 PM - 9:00 PM                       6809 non-null   uint8\n",
      " 38  Time of Day_9:00 AM - 10:00 AM                      6809 non-null   uint8\n",
      " 39  Time of Day_9:00 PM - 10:00 PM                      6809 non-null   uint8\n",
      " 40  Time of Day_Unknown                                 6809 non-null   uint8\n",
      " 41  Day of Week_Friday                                  6809 non-null   uint8\n",
      " 42  Day of Week_Monday                                  6809 non-null   uint8\n",
      " 43  Day of Week_Saturday                                6809 non-null   uint8\n",
      " 44  Day of Week_Sunday                                  6809 non-null   uint8\n",
      " 45  Day of Week_Thursday                                6809 non-null   uint8\n",
      " 46  Day of Week_Tuesday                                 6809 non-null   uint8\n",
      " 47  Day of Week_Wednesday                               6809 non-null   uint8\n",
      " 48  Crash: Intersection_Intersection crash              6809 non-null   uint8\n",
      " 49  Crash: Intersection_Not intersection crash          6809 non-null   uint8\n",
      " 50  Crash: Hit-and-Run_Hit-and-run                      6809 non-null   uint8\n",
      " 51  Crash: Hit-and-Run_Not hit-and-run                  6809 non-null   uint8\n",
      " 52  Lighting Conditions_Dark lighted                    6809 non-null   uint8\n",
      " 53  Lighting Conditions_Dark unlighted                  6809 non-null   uint8\n",
      " 54  Lighting Conditions_Dawn                            6809 non-null   uint8\n",
      " 55  Lighting Conditions_Daylight                        6809 non-null   uint8\n",
      " 56  Lighting Conditions_Dusk                            6809 non-null   uint8\n",
      " 57  Lighting Conditions_Other / unknown                 6809 non-null   uint8\n",
      " 58  Lighting Conditions_Unknown                         6809 non-null   uint8\n",
      " 59  Weather Conditions (2016+)_Blowing snow             6809 non-null   uint8\n",
      " 60  Weather Conditions (2016+)_Clear                    6809 non-null   uint8\n",
      " 61  Weather Conditions (2016+)_Cloudy                   6809 non-null   uint8\n",
      " 62  Weather Conditions (2016+)_Fog                      6809 non-null   uint8\n",
      " 63  Weather Conditions (2016+)_None                     6809 non-null   uint8\n",
      " 64  Weather Conditions (2016+)_Rain                     6809 non-null   uint8\n",
      " 65  Weather Conditions (2016+)_Sleet/hail               6809 non-null   uint8\n",
      " 66  Weather Conditions (2016+)_Smoke                    6809 non-null   uint8\n",
      " 67  Weather Conditions (2016+)_Snow                     6809 non-null   uint8\n",
      " 68  Weather Conditions (2016+)_Unknown                  6809 non-null   uint8\n",
      " 69  Person Gender_Female                                6809 non-null   uint8\n",
      " 70  Person Gender_Male                                  6809 non-null   uint8\n",
      " 71  Person Gender_unknown                               6809 non-null   uint8\n",
      " 72  Worst Injury in Crash_Fatal injury (K)              6809 non-null   uint8\n",
      " 73  Worst Injury in Crash_No injury (O)                 6809 non-null   uint8\n",
      " 74  Worst Injury in Crash_Possible injury (C)           6809 non-null   uint8\n",
      " 75  Worst Injury in Crash_Suspected minor injury (B)    6809 non-null   uint8\n",
      " 76  Worst Injury in Crash_Suspected serious injury (A)  6809 non-null   uint8\n",
      "dtypes: int32(2), int64(2), uint8(73)\n",
      "memory usage: 645.1 KB\n"
     ]
    }
   ],
   "source": [
    "data.columns.values.tolist()\n",
    "data.shape\n",
    "data.info()\n",
    "#podaci[\"Worst Injury in Crash\"].unique()"
   ]
  },
  {
   "attachments": {},
   "cell_type": "markdown",
   "metadata": {},
   "source": [
    "podjela podataka za trening i testiranje"
   ]
  },
  {
   "cell_type": "code",
   "execution_count": 387,
   "metadata": {},
   "outputs": [
    {
     "data": {
      "text/html": [
       "<div>\n",
       "<style scoped>\n",
       "    .dataframe tbody tr th:only-of-type {\n",
       "        vertical-align: middle;\n",
       "    }\n",
       "\n",
       "    .dataframe tbody tr th {\n",
       "        vertical-align: top;\n",
       "    }\n",
       "\n",
       "    .dataframe thead th {\n",
       "        text-align: right;\n",
       "    }\n",
       "</style>\n",
       "<table border=\"1\" class=\"dataframe\">\n",
       "  <thead>\n",
       "    <tr style=\"text-align: right;\">\n",
       "      <th></th>\n",
       "      <th>Worst Injury in Crash_Fatal injury (K)</th>\n",
       "      <th>Worst Injury in Crash_No injury (O)</th>\n",
       "      <th>Worst Injury in Crash_Possible injury (C)</th>\n",
       "      <th>Worst Injury in Crash_Suspected minor injury (B)</th>\n",
       "      <th>Worst Injury in Crash_Suspected serious injury (A)</th>\n",
       "    </tr>\n",
       "  </thead>\n",
       "  <tbody>\n",
       "    <tr>\n",
       "      <th>0</th>\n",
       "      <td>0</td>\n",
       "      <td>0</td>\n",
       "      <td>0</td>\n",
       "      <td>1</td>\n",
       "      <td>0</td>\n",
       "    </tr>\n",
       "    <tr>\n",
       "      <th>1</th>\n",
       "      <td>0</td>\n",
       "      <td>0</td>\n",
       "      <td>0</td>\n",
       "      <td>0</td>\n",
       "      <td>1</td>\n",
       "    </tr>\n",
       "    <tr>\n",
       "      <th>2</th>\n",
       "      <td>0</td>\n",
       "      <td>0</td>\n",
       "      <td>1</td>\n",
       "      <td>0</td>\n",
       "      <td>0</td>\n",
       "    </tr>\n",
       "    <tr>\n",
       "      <th>3</th>\n",
       "      <td>0</td>\n",
       "      <td>0</td>\n",
       "      <td>0</td>\n",
       "      <td>1</td>\n",
       "      <td>0</td>\n",
       "    </tr>\n",
       "    <tr>\n",
       "      <th>4</th>\n",
       "      <td>0</td>\n",
       "      <td>1</td>\n",
       "      <td>0</td>\n",
       "      <td>0</td>\n",
       "      <td>0</td>\n",
       "    </tr>\n",
       "    <tr>\n",
       "      <th>...</th>\n",
       "      <td>...</td>\n",
       "      <td>...</td>\n",
       "      <td>...</td>\n",
       "      <td>...</td>\n",
       "      <td>...</td>\n",
       "    </tr>\n",
       "    <tr>\n",
       "      <th>6804</th>\n",
       "      <td>1</td>\n",
       "      <td>0</td>\n",
       "      <td>0</td>\n",
       "      <td>0</td>\n",
       "      <td>0</td>\n",
       "    </tr>\n",
       "    <tr>\n",
       "      <th>6805</th>\n",
       "      <td>0</td>\n",
       "      <td>0</td>\n",
       "      <td>0</td>\n",
       "      <td>1</td>\n",
       "      <td>0</td>\n",
       "    </tr>\n",
       "    <tr>\n",
       "      <th>6806</th>\n",
       "      <td>0</td>\n",
       "      <td>0</td>\n",
       "      <td>1</td>\n",
       "      <td>0</td>\n",
       "      <td>0</td>\n",
       "    </tr>\n",
       "    <tr>\n",
       "      <th>6807</th>\n",
       "      <td>0</td>\n",
       "      <td>0</td>\n",
       "      <td>1</td>\n",
       "      <td>0</td>\n",
       "      <td>0</td>\n",
       "    </tr>\n",
       "    <tr>\n",
       "      <th>6808</th>\n",
       "      <td>0</td>\n",
       "      <td>0</td>\n",
       "      <td>1</td>\n",
       "      <td>0</td>\n",
       "      <td>0</td>\n",
       "    </tr>\n",
       "  </tbody>\n",
       "</table>\n",
       "<p>6809 rows × 5 columns</p>\n",
       "</div>"
      ],
      "text/plain": [
       "      Worst Injury in Crash_Fatal injury (K)  \\\n",
       "0                                          0   \n",
       "1                                          0   \n",
       "2                                          0   \n",
       "3                                          0   \n",
       "4                                          0   \n",
       "...                                      ...   \n",
       "6804                                       1   \n",
       "6805                                       0   \n",
       "6806                                       0   \n",
       "6807                                       0   \n",
       "6808                                       0   \n",
       "\n",
       "      Worst Injury in Crash_No injury (O)  \\\n",
       "0                                       0   \n",
       "1                                       0   \n",
       "2                                       0   \n",
       "3                                       0   \n",
       "4                                       1   \n",
       "...                                   ...   \n",
       "6804                                    0   \n",
       "6805                                    0   \n",
       "6806                                    0   \n",
       "6807                                    0   \n",
       "6808                                    0   \n",
       "\n",
       "      Worst Injury in Crash_Possible injury (C)  \\\n",
       "0                                             0   \n",
       "1                                             0   \n",
       "2                                             1   \n",
       "3                                             0   \n",
       "4                                             0   \n",
       "...                                         ...   \n",
       "6804                                          0   \n",
       "6805                                          0   \n",
       "6806                                          1   \n",
       "6807                                          1   \n",
       "6808                                          1   \n",
       "\n",
       "      Worst Injury in Crash_Suspected minor injury (B)  \\\n",
       "0                                                    1   \n",
       "1                                                    0   \n",
       "2                                                    0   \n",
       "3                                                    1   \n",
       "4                                                    0   \n",
       "...                                                ...   \n",
       "6804                                                 0   \n",
       "6805                                                 1   \n",
       "6806                                                 0   \n",
       "6807                                                 0   \n",
       "6808                                                 0   \n",
       "\n",
       "      Worst Injury in Crash_Suspected serious injury (A)  \n",
       "0                                                     0   \n",
       "1                                                     1   \n",
       "2                                                     0   \n",
       "3                                                     0   \n",
       "4                                                     0   \n",
       "...                                                 ...   \n",
       "6804                                                  0   \n",
       "6805                                                  0   \n",
       "6806                                                  0   \n",
       "6807                                                  0   \n",
       "6808                                                  0   \n",
       "\n",
       "[6809 rows x 5 columns]"
      ]
     },
     "execution_count": 387,
     "metadata": {},
     "output_type": "execute_result"
    }
   ],
   "source": [
    "X = data.drop(columns=['Worst Injury in Crash_Fatal injury (K)',\n",
    " 'Worst Injury in Crash_No injury (O)',\n",
    " 'Worst Injury in Crash_Possible injury (C)',\n",
    " 'Worst Injury in Crash_Suspected minor injury (B)',\n",
    " 'Worst Injury in Crash_Suspected serious injury (A)'], axis=1)\n",
    "y = data.iloc[:, -5:]\n",
    "X_train, X_test, y_train, y_test = train_test_split(X, y, test_size=0.2, random_state=0)\n",
    "y"
   ]
  },
  {
   "cell_type": "code",
   "execution_count": 345,
   "metadata": {},
   "outputs": [],
   "source": [
    "pca = PCA(n_components=0.95)\n",
    "pca.fit(X_train)\n",
    "X_train = pca.transform(X_train)\n",
    "X_test = pca.transform(X_test)"
   ]
  },
  {
   "attachments": {},
   "cell_type": "markdown",
   "metadata": {},
   "source": [
    "pokusaj sa NN"
   ]
  },
  {
   "cell_type": "code",
   "execution_count": 388,
   "metadata": {},
   "outputs": [],
   "source": [
    "scaler = StandardScaler()\n",
    "X_train = scaler.fit_transform(X_train)\n",
    "X_test = scaler.transform(X_test)"
   ]
  },
  {
   "attachments": {},
   "cell_type": "markdown",
   "metadata": {},
   "source": [
    "Odabir modela za učenje"
   ]
  },
  {
   "cell_type": "code",
   "execution_count": 352,
   "metadata": {},
   "outputs": [],
   "source": [
    "# Import the linear regression model\n",
    "from sklearn.ensemble import RandomForestClassifier\n",
    "from sklearn.neural_network import MLPClassifier"
   ]
  },
  {
   "cell_type": "code",
   "execution_count": 348,
   "metadata": {},
   "outputs": [],
   "source": [
    "# Create an instance of the model\n",
    "model = RandomForestClassifier(n_estimators=50,max_depth=None, min_samples_split= 2)"
   ]
  },
  {
   "cell_type": "code",
   "execution_count": 391,
   "metadata": {},
   "outputs": [],
   "source": [
    "model = MLPClassifier(hidden_layer_sizes=(100,100), activation='relu', solver='adam',max_iter=1000)"
   ]
  },
  {
   "cell_type": "code",
   "execution_count": 392,
   "metadata": {},
   "outputs": [
    {
     "data": {
      "text/plain": [
       "0.2305433186490455"
      ]
     },
     "execution_count": 392,
     "metadata": {},
     "output_type": "execute_result"
    }
   ],
   "source": [
    "model.fit(X_train, y_train)\n",
    "model.score(X_test,y_test)"
   ]
  },
  {
   "cell_type": "code",
   "execution_count": 296,
   "metadata": {},
   "outputs": [],
   "source": [
    "from sklearn.metrics import accuracy_score, precision_score, recall_score, f1_score"
   ]
  },
  {
   "cell_type": "code",
   "execution_count": 393,
   "metadata": {},
   "outputs": [],
   "source": [
    "y_pred = model.predict(X_test)"
   ]
  },
  {
   "cell_type": "code",
   "execution_count": 394,
   "metadata": {},
   "outputs": [],
   "source": [
    "acc = accuracy_score(y_test, y_pred)\n",
    "prec = precision_score(y_test, y_pred, average='weighted')\n",
    "recall = recall_score(y_test, y_pred, average='weighted')\n",
    "f1 = f1_score(y_test, y_pred, average='weighted')"
   ]
  },
  {
   "cell_type": "code",
   "execution_count": 395,
   "metadata": {},
   "outputs": [
    {
     "name": "stdout",
     "output_type": "stream",
     "text": [
      "Accuracy: 0.23\n",
      "Precision: 0.32\n",
      "Recall: 0.32\n",
      "F1 Score: 0.32\n"
     ]
    }
   ],
   "source": [
    "print(\"Accuracy: {:.2f}\".format(acc))\n",
    "print(\"Precision: {:.2f}\".format(prec))\n",
    "print(\"Recall: {:.2f}\".format(recall))\n",
    "print(\"F1 Score: {:.2f}\".format(f1))"
   ]
  },
  {
   "cell_type": "code",
   "execution_count": 334,
   "metadata": {},
   "outputs": [
    {
     "name": "stdout",
     "output_type": "stream",
     "text": [
      "Best parameters:  {'max_depth': None, 'min_samples_split': 2, 'n_estimators': 50}\n",
      "Best score:  0.10391184573002754\n"
     ]
    }
   ],
   "source": [
    "from sklearn.model_selection import GridSearchCV\n",
    "\n",
    "# Define the parameter grid\n",
    "param_grid = {'n_estimators': [50, 100, 150],\n",
    "              'max_depth': [None, 5, 10],\n",
    "              'min_samples_split': [2, 5, 10]}\n",
    "\n",
    "# Create an instance of the model\n",
    "model = RandomForestClassifier(random_state=0)\n",
    "\n",
    "# Create an instance of GridSearchCV\n",
    "grid_search = GridSearchCV(model, param_grid, cv=5)\n",
    "\n",
    "# Fit the GridSearchCV object to the data\n",
    "grid_search.fit(X_train, y_train)\n",
    "\n",
    "# Print the best parameters\n",
    "print(\"Best parameters: \", grid_search.best_params_)\n",
    "\n",
    "# Print the best score\n",
    "print(\"Best score: \", grid_search.best_score_)"
   ]
  }
 ],
 "metadata": {
  "kernelspec": {
   "display_name": "Python 3.6.8 64-bit",
   "language": "python",
   "name": "python3"
  },
  "language_info": {
   "codemirror_mode": {
    "name": "ipython",
    "version": 3
   },
   "file_extension": ".py",
   "mimetype": "text/x-python",
   "name": "python",
   "nbconvert_exporter": "python",
   "pygments_lexer": "ipython3",
   "version": "3.6.8"
  },
  "orig_nbformat": 4,
  "vscode": {
   "interpreter": {
    "hash": "a4f6684756cad7d06e50a033f66b8e4e0e24205bb22275683e3dcf73a4e713af"
   }
  }
 },
 "nbformat": 4,
 "nbformat_minor": 2
}
